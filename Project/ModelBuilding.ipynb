{
  "nbformat": 4,
  "nbformat_minor": 0,
  "metadata": {
    "colab": {
      "provenance": []
    },
    "kernelspec": {
      "name": "python3",
      "display_name": "Python 3"
    },
    "language_info": {
      "name": "python"
    }
  },
  "cells": [
    {
      "cell_type": "markdown",
      "source": [
        "Model Building\n"
      ],
      "metadata": {
        "id": "vRdlOrhsntf2"
      }
    },
    {
      "cell_type": "code",
      "source": [
        "import numpy as np #used for numerical analysis\n",
        "import tensorflow #open source used for both ML and DL for computatio\n",
        "from tensorflow.keras.models import Sequential #it is a palin stack of layer\n",
        "from tensorflow.keras.layers import Layer #Alayer consists of a tensor-in tensor-out computation function\n",
        "from tensorflow.keras.layers import Dense,Flatten #flattening the input or change the dimension\n",
        "from tensorflow.keras.layers import Conv2D,MaxPooling2D,Dropout #convolution layer , MaxPooling2D-for downsampling the image\n",
        "from keras.preprocessing.image import ImageDataGenerator"
      ],
      "metadata": {
        "id": "m2qxg2Wjnzw9"
      },
      "execution_count": null,
      "outputs": []
    },
    {
      "cell_type": "code",
      "source": [
        "model=Sequential()"
      ],
      "metadata": {
        "id": "K91WgRpRn34H"
      },
      "execution_count": null,
      "outputs": []
    },
    {
      "cell_type": "code",
      "source": [
        "model.add(Conv2D(32,(3,3),input_shape=(64,64,3),activation='relu'))"
      ],
      "metadata": {
        "id": "fhAjHFz9n7S7"
      },
      "execution_count": null,
      "outputs": []
    },
    {
      "cell_type": "code",
      "source": [
        "model.add(MaxPooling2D(pool_size =(2,2)))"
      ],
      "metadata": {
        "id": "tgNlalfaoBnN"
      },
      "execution_count": null,
      "outputs": []
    },
    {
      "cell_type": "code",
      "source": [
        "model.add(Conv2D(32,(3,3),activation='relu'))\n",
        "model.add(MaxPooling2D(pool_size =(2,2)))\n",
        "model.add(Flatten())"
      ],
      "metadata": {
        "id": "v1aCAqG9oEQ2"
      },
      "execution_count": null,
      "outputs": []
    },
    {
      "cell_type": "code",
      "source": [
        "model.add(Dense(units=128,activation='relu'))\n",
        "model.add(Dense(units=128,activation='softmax'))"
      ],
      "metadata": {
        "id": "lofV6TlzoFTy"
      },
      "execution_count": null,
      "outputs": []
    },
    {
      "cell_type": "code",
      "source": [
        "model.summary"
      ],
      "metadata": {
        "id": "G5DTR6E1oM3S"
      },
      "execution_count": null,
      "outputs": []
    },
    {
      "cell_type": "code",
      "source": [
        "model.compile(optimizer='adam',loss='sparse_categorical_crossentropy',metrics=['accuracy'])"
      ],
      "metadata": {
        "id": "XDiQvdNGoRh2"
      },
      "execution_count": null,
      "outputs": []
    },
    {
      "cell_type": "code",
      "source": [
        "import tensorflow as tf\n",
        "from tensorflow import keras\n",
        "from keras.preprocessing.image import ImageDataGenerator\n",
        "from google.colab import drive\n",
        "drive.mount('/content/drive')\n",
        "import zipfile\n",
        "import os"
      ],
      "metadata": {
        "id": "m6t-NlVtoWG8"
      },
      "execution_count": null,
      "outputs": []
    },
    {
      "cell_type": "code",
      "source": [
        "zip_dataset=zipfile.ZipFile('/content/drive/MyDrive/Dataset_Copy.zip','r')\n",
        "zip_dataset.extractall('/tmp')\n",
        "zip_dataset.close()"
      ],
      "metadata": {
        "id": "EBnwRQd-oW3o"
      },
      "execution_count": null,
      "outputs": []
    },
    {
      "cell_type": "code",
      "source": [
        "from keras.preprocessing.image import ImageDataGenerator\n",
        "train_datagen = ImageDataGenerator(rescale = 1./255,shear_range=0.2,zoom_range=0.2,horizontal_flip=True)\n",
        "test_datagen = ImageDataGenerator(rescale = 1./255)\n",
        "x_train = train_datagen.flow_from_directory(r'/tmp/Dataset/TRAIN_SET',target_size = (64,64) ,batch_size = 5,color_mode='rgb',class_mode = 'sparse')\n",
        "x_test = test_datagen.flow_from_directory(r'/tmp/Dataset/TEST_SET',target_size = (64,64) ,batch_size = 5,color_mode='rgb',class_mode = 'sparse')"
      ],
      "metadata": {
        "id": "nHgpQDFxoiDT"
      },
      "execution_count": null,
      "outputs": []
    },
    {
      "cell_type": "code",
      "source": [
        "model.compile(optimizer='adam',loss='sparse_categorical_crossentropy',metrics=['accuracy'])"
      ],
      "metadata": {
        "id": "OP2rgNw3oyyu"
      },
      "execution_count": null,
      "outputs": []
    },
    {
      "cell_type": "code",
      "source": [
        "model.fit_generator(\n",
        "generator=x_train,steps_per_epoch=len(x_train),\n",
        "epochs=20,validation_data=x_test,validation_steps=len(x_test))"
      ],
      "metadata": {
        "id": "qCJCP-ago189"
      },
      "execution_count": null,
      "outputs": []
    },
    {
      "cell_type": "code",
      "source": [
        "model.save('nutrition.h5')"
      ],
      "metadata": {
        "id": "wETw3xSRo4Yd"
      },
      "execution_count": null,
      "outputs": []
    },
    {
      "cell_type": "code",
      "source": [
        "from tensorflow.keras.models import load_model\n",
        "from keras_preprocessing import image\n",
        "from keras_preprocessing.image import load_img\n",
        "from keras_preprocessing.image import img_to_array"
      ],
      "metadata": {
        "id": "nG5VdcqDpXiN"
      },
      "execution_count": null,
      "outputs": []
    },
    {
      "cell_type": "code",
      "source": [
        "model = load_model(\"nutrition.h5\")\n",
        "labels=['APPLES','BANANA','ORANGE','PINEAPPLE','WATERMELON']"
      ],
      "metadata": {
        "id": "poVVsdLUpYgO"
      },
      "execution_count": null,
      "outputs": []
    },
    {
      "cell_type": "code",
      "source": [
        "img = load_img(r\"C:\\Users\\HP\\Desktop\\data_set\\TEST_SET-20221101T044129Z-001\\TEST_SET\\APPLES\\3_100.jpg\",grayscale=False,target_size=(64,64))\n",
        "x = img_to_array(img)\n",
        "x=np.expand_dims(x,[0])\n",
        "pred = model.predict(x)\n",
        "y_class = answer.argmax(axis=-1)\n",
        "y = \" \".join(str(x) for x in y_class)\n",
        "y = int(y)\n",
        "res = labels[y]\n",
        "res"
      ],
      "metadata": {
        "id": "SjGhyNkZpacO"
      },
      "execution_count": null,
      "outputs": []
    }
  ]
}